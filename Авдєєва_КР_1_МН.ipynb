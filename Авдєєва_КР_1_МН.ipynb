{
 "cells": [
  {
   "cell_type": "markdown",
   "id": "906abdcd-1c3a-492b-9962-7500d7ee8242",
   "metadata": {},
   "source": [
    "## ПІДСУМКОВА КОНТРОЛЬНА РОБОТА\r\n",
    "## МАШИННЕ НАВЧАННЯ\r\n",
    "## Авдєєва Серафима ФІТ 4-4\r\n",
    "## Завдання 1\r\n",
    "Загрузити датасет\r\n",
    "Global YouTube Statistics 2023 з Kaggle\r\n",
    "\r\n",
    "Виконайте наступні завдання:"
   ]
  },
  {
   "cell_type": "code",
   "execution_count": 1,
   "id": "5f4ebaa1-d9d6-4673-95d9-8a41fe613e63",
   "metadata": {},
   "outputs": [],
   "source": [
    "import pandas as pd\n",
    "import numpy as np\n",
    "import matplotlib.pyplot as plt"
   ]
  },
  {
   "cell_type": "code",
   "execution_count": 2,
   "id": "64316bf2-92a8-4195-a1a5-5b0d9e81f068",
   "metadata": {},
   "outputs": [],
   "source": [
    "# 1: Зчитування CSV файлу\n",
    "data = pd.read_csv(\"E:/University/completed_tasks/machine_learning/Global YouTube Statistics.csv\", encoding='unicode_escape')"
   ]
  },
  {
   "cell_type": "code",
   "execution_count": 3,
   "id": "d19d6aec-0f92-4a74-9aa6-11641b929b76",
   "metadata": {},
   "outputs": [
    {
     "name": "stdout",
     "output_type": "stream",
     "text": [
      "   rank                    Youtuber  subscribers   video views  \\\n",
      "0     1                    T-Series    245000000  2.280000e+11   \n",
      "1     2              YouTube Movies    170000000  0.000000e+00   \n",
      "2     3                     MrBeast    166000000  2.836884e+10   \n",
      "3     4  Cocomelon - Nursery Rhymes    162000000  1.640000e+11   \n",
      "4     5                   SET India    159000000  1.480000e+11   \n",
      "\n",
      "           category                       Title  uploads        Country  \\\n",
      "0             Music                    T-Series    20082          India   \n",
      "1  Film & Animation               youtubemovies        1  United States   \n",
      "2     Entertainment                     MrBeast      741  United States   \n",
      "3         Education  Cocomelon - Nursery Rhymes      966  United States   \n",
      "4             Shows                   SET India   116536          India   \n",
      "\n",
      "  Abbreviation   channel_type  ...  subscribers_for_last_30_days  \\\n",
      "0           IN          Music  ...                     2000000.0   \n",
      "1           US          Games  ...                           NaN   \n",
      "2           US  Entertainment  ...                     8000000.0   \n",
      "3           US      Education  ...                     1000000.0   \n",
      "4           IN  Entertainment  ...                     1000000.0   \n",
      "\n",
      "   created_year  created_month  created_date  \\\n",
      "0        2006.0            Mar          13.0   \n",
      "1        2006.0            Mar           5.0   \n",
      "2        2012.0            Feb          20.0   \n",
      "3        2006.0            Sep           1.0   \n",
      "4        2006.0            Sep          20.0   \n",
      "\n",
      "   Gross tertiary education enrollment (%)    Population  Unemployment rate  \\\n",
      "0                                     28.1  1.366418e+09               5.36   \n",
      "1                                     88.2  3.282395e+08              14.70   \n",
      "2                                     88.2  3.282395e+08              14.70   \n",
      "3                                     88.2  3.282395e+08              14.70   \n",
      "4                                     28.1  1.366418e+09               5.36   \n",
      "\n",
      "   Urban_population   Latitude  Longitude  \n",
      "0       471031528.0  20.593684  78.962880  \n",
      "1       270663028.0  37.090240 -95.712891  \n",
      "2       270663028.0  37.090240 -95.712891  \n",
      "3       270663028.0  37.090240 -95.712891  \n",
      "4       471031528.0  20.593684  78.962880  \n",
      "\n",
      "[5 rows x 28 columns]\n"
     ]
    }
   ],
   "source": [
    "# 2: Виведення перших п'яти рядків\n",
    "data_h5 = data.head(5)\n",
    "print(data_h5)"
   ]
  },
  {
   "cell_type": "code",
   "execution_count": 4,
   "id": "81884661-0b7d-4d43-995c-eddee6ce8773",
   "metadata": {},
   "outputs": [
    {
     "name": "stdout",
     "output_type": "stream",
     "text": [
      "Розмір датасету: (995, 28)\n"
     ]
    }
   ],
   "source": [
    "# 3: Виведення розмірів датасету\n",
    "print(\"Розмір датасету:\", data.shape)"
   ]
  },
  {
   "cell_type": "code",
   "execution_count": 9,
   "id": "23525ccc-a4c0-4c55-922f-2d7898fae36d",
   "metadata": {},
   "outputs": [
    {
     "name": "stdout",
     "output_type": "stream",
     "text": [
      "Кількість пропусків у кожному стовпці:\n",
      " rank                                         0\n",
      "Youtuber                                     0\n",
      "subscribers                                  0\n",
      "video views                                  0\n",
      "category                                    46\n",
      "Title                                        0\n",
      "uploads                                      0\n",
      "Country                                    122\n",
      "Abbreviation                               122\n",
      "channel_type                                30\n",
      "video_views_rank                             0\n",
      "country_rank                                 0\n",
      "channel_type_rank                            0\n",
      "video_views_for_the_last_30_days             0\n",
      "lowest_monthly_earnings                      0\n",
      "highest_monthly_earnings                     0\n",
      "lowest_yearly_earnings                       0\n",
      "highest_yearly_earnings                      0\n",
      "subscribers_for_last_30_days                 0\n",
      "created_year                                 0\n",
      "created_month                                5\n",
      "created_date                                 0\n",
      "Gross tertiary education enrollment (%)      0\n",
      "Population                                   0\n",
      "Unemployment rate                            0\n",
      "Urban_population                             0\n",
      "Latitude                                     0\n",
      "Longitude                                    0\n",
      "dtype: int64\n",
      "rank                                       float64\n",
      "Youtuber                                    object\n",
      "subscribers                                float64\n",
      "video views                                float64\n",
      "category                                    object\n",
      "Title                                       object\n",
      "uploads                                    float64\n",
      "Country                                     object\n",
      "Abbreviation                                object\n",
      "channel_type                                object\n",
      "video_views_rank                           float64\n",
      "country_rank                               float64\n",
      "channel_type_rank                          float64\n",
      "video_views_for_the_last_30_days           float64\n",
      "lowest_monthly_earnings                    float64\n",
      "highest_monthly_earnings                   float64\n",
      "lowest_yearly_earnings                     float64\n",
      "highest_yearly_earnings                    float64\n",
      "subscribers_for_last_30_days               float64\n",
      "created_year                               float64\n",
      "created_month                               object\n",
      "created_date                               float64\n",
      "Gross tertiary education enrollment (%)    float64\n",
      "Population                                 float64\n",
      "Unemployment rate                          float64\n",
      "Urban_population                           float64\n",
      "Latitude                                   float64\n",
      "Longitude                                  float64\n",
      "dtype: object\n"
     ]
    }
   ],
   "source": [
    "# 4: Перевірка пропусків та заміна їх на NaN\n",
    "print(\"Кількість пропусків у кожному стовпці:\\n\", data.isna().sum())\n",
    "print(data.dtypes)"
   ]
  },
  {
   "cell_type": "code",
   "execution_count": 10,
   "id": "3d6ee967-6d50-4adb-9d99-147766bb4b3c",
   "metadata": {},
   "outputs": [
    {
     "name": "stdout",
     "output_type": "stream",
     "text": [
      "rank                                       float64\n",
      "Youtuber                                    object\n",
      "subscribers                                float64\n",
      "video views                                float64\n",
      "category                                    object\n",
      "Title                                       object\n",
      "uploads                                    float64\n",
      "Country                                     object\n",
      "Abbreviation                                object\n",
      "channel_type                                object\n",
      "video_views_rank                           float64\n",
      "country_rank                               float64\n",
      "channel_type_rank                          float64\n",
      "video_views_for_the_last_30_days           float64\n",
      "lowest_monthly_earnings                    float64\n",
      "highest_monthly_earnings                   float64\n",
      "lowest_yearly_earnings                     float64\n",
      "highest_yearly_earnings                    float64\n",
      "subscribers_for_last_30_days               float64\n",
      "created_year                               float64\n",
      "created_month                               object\n",
      "created_date                               float64\n",
      "Gross tertiary education enrollment (%)    float64\n",
      "Population                                 float64\n",
      "Unemployment rate                          float64\n",
      "Urban_population                           float64\n",
      "Latitude                                   float64\n",
      "Longitude                                  float64\n",
      "dtype: object\n"
     ]
    }
   ],
   "source": [
    "# Заміна пропусків на NaN і зміна типу даних на числовий\n",
    "data = data.fillna(np.nan)\n",
    "for column in data.columns:\n",
    "    try:\n",
    "        column = pd.to_numeric(column)\n",
    "    except:\n",
    "        pass\n",
    "print(data.dtypes)"
   ]
  },
  {
   "cell_type": "code",
   "execution_count": 11,
   "id": "6114f471-9e29-48cf-8b09-c848749cc013",
   "metadata": {},
   "outputs": [
    {
     "name": "stdout",
     "output_type": "stream",
     "text": [
      "rank                                       float64\n",
      "Youtuber                                    object\n",
      "subscribers                                float64\n",
      "video views                                float64\n",
      "category                                    object\n",
      "Title                                       object\n",
      "uploads                                    float64\n",
      "Country                                     object\n",
      "Abbreviation                                object\n",
      "channel_type                                object\n",
      "video_views_rank                           float64\n",
      "country_rank                               float64\n",
      "channel_type_rank                          float64\n",
      "video_views_for_the_last_30_days           float64\n",
      "lowest_monthly_earnings                    float64\n",
      "highest_monthly_earnings                   float64\n",
      "lowest_yearly_earnings                     float64\n",
      "highest_yearly_earnings                    float64\n",
      "subscribers_for_last_30_days               float64\n",
      "created_year                               float64\n",
      "created_month                               object\n",
      "created_date                               float64\n",
      "Gross tertiary education enrollment (%)    float64\n",
      "Population                                 float64\n",
      "Unemployment rate                          float64\n",
      "Urban_population                           float64\n",
      "Latitude                                   float64\n",
      "Longitude                                  float64\n",
      "dtype: object\n"
     ]
    }
   ],
   "source": [
    "# 5. Заміна комірок з пропущеними значеннями на середні за стовпцем\n",
    "for column in data.columns:\n",
    "    try:\n",
    "        data[column] = data[column].fillna(data[column].mean())\n",
    "    except:\n",
    "        pass\n",
    "    if np.issubdtype(data[column].dtype, np.int64):\n",
    "        data[column] = data[column].astype(float)\n",
    "                             \n",
    "print(data.dtypes)"
   ]
  },
  {
   "cell_type": "code",
   "execution_count": 12,
   "id": "d6cdb053-a78f-4d59-ae6f-acf7e94370ab",
   "metadata": {},
   "outputs": [
    {
     "name": "stdout",
     "output_type": "stream",
     "text": [
      "Кількість пропусків у кожному стовпці:\n",
      " rank                                         0\n",
      "Youtuber                                     0\n",
      "subscribers                                  0\n",
      "video views                                  0\n",
      "category                                    46\n",
      "Title                                        0\n",
      "uploads                                      0\n",
      "Country                                    122\n",
      "Abbreviation                               122\n",
      "channel_type                                30\n",
      "video_views_rank                             0\n",
      "country_rank                                 0\n",
      "channel_type_rank                            0\n",
      "video_views_for_the_last_30_days             0\n",
      "lowest_monthly_earnings                      0\n",
      "highest_monthly_earnings                     0\n",
      "lowest_yearly_earnings                       0\n",
      "highest_yearly_earnings                      0\n",
      "subscribers_for_last_30_days                 0\n",
      "created_year                                 0\n",
      "created_month                                5\n",
      "created_date                                 0\n",
      "Gross tertiary education enrollment (%)      0\n",
      "Population                                   0\n",
      "Unemployment rate                            0\n",
      "Urban_population                             0\n",
      "Latitude                                     0\n",
      "Longitude                                    0\n",
      "dtype: int64\n"
     ]
    }
   ],
   "source": [
    "# 6. Перевірка кількості пропусків\n",
    "print(\"Кількість пропусків у кожному стовпці:\\n\", data.isna().sum())\n",
    "#print(\"\\n------DATA------\", data)"
   ]
  },
  {
   "cell_type": "code",
   "execution_count": 13,
   "id": "02f47751-0907-4ecc-a3b5-6f3baef6998b",
   "metadata": {},
   "outputs": [
    {
     "name": "stdout",
     "output_type": "stream",
     "text": [
      "Кількість унікальних країн:  49\n"
     ]
    }
   ],
   "source": [
    "# 7: Кількість унікальних країн в колонці \"Country\"\n",
    "unique_countries = data['Country'].nunique()\n",
    "print(\"Кількість унікальних країн: \", unique_countries)"
   ]
  },
  {
   "cell_type": "code",
   "execution_count": 14,
   "id": "55cb4833-eceb-4a6d-bea9-e527d2abcc16",
   "metadata": {},
   "outputs": [
    {
     "data": {
      "image/png": "[encoded data removed]",
      "text/plain": [
       "<Figure size 640x480 with 1 Axes>"
      ]
     },
     "metadata": {},
     "output_type": "display_data"
    }
   ],
   "source": [
    "# 8: Побудова гістограми розподілу переглядів\n",
    "\n",
    "num_els = len(data['video views'])\n",
    "data['video views'].plot(kind='hist', bins=int(num_els), edgecolor='red')\n",
    "plt.title('Розподіл переглядів')\n",
    "plt.xlabel('Перегляди')\n",
    "plt.ylabel('Частота')\n",
    "plt.show()"
   ]
  },
  {
   "cell_type": "code",
   "execution_count": 15,
   "id": "81b0505a-68b1-4579-a4c6-2204383f4b68",
   "metadata": {},
   "outputs": [
    {
     "name": "stdout",
     "output_type": "stream",
     "text": [
      "Максимальна кількість переглядів: 228000000000.0\n",
      "Мінімальна кількість переглядів: 0.0\n",
      "Середня кількість переглядів: 11039537052.03819\n"
     ]
    }
   ],
   "source": [
    "# 9: Визначення максимальної, мінімальної та середньої кількості переглядів\n",
    "max_views = data['video views'].max()\n",
    "min_views = data['video views'].min()\n",
    "mean_views = data['video views'].mean()\n",
    "print(\"Максимальна кількість переглядів:\", max_views)\n",
    "print(\"Мінімальна кількість переглядів:\", min_views)\n",
    "print(\"Середня кількість переглядів:\", mean_views)\n"
   ]
  },
  {
   "cell_type": "code",
   "execution_count": 16,
   "id": "8c84c526-79d3-463f-bba2-460b491aa7fb",
   "metadata": {},
   "outputs": [
    {
     "name": "stdout",
     "output_type": "stream",
     "text": [
      "Країна з найбільшою кількістю відео на YouTube:  United States\n"
     ]
    }
   ],
   "source": [
    "# 10: Знаходження країни з найбільшою кількістю відео\n",
    "country_counts = data['Country'].value_counts()\n",
    "most_uploads_country = country_counts.idxmax()\n",
    "print(\"Країна з найбільшою кількістю відео на YouTube: \", most_uploads_country)"
   ]
  },
  {
   "cell_type": "code",
   "execution_count": 17,
   "id": "cdca1261-c0ee-45b9-bbda-9992ff41362b",
   "metadata": {},
   "outputs": [
    {
     "name": "stdout",
     "output_type": "stream",
     "text": [
      "Відео з найбільшою кількістю завантажень: ABP NEWS\n",
      "Відео з найменшою кількістю завантажень: Music\n"
     ]
    }
   ],
   "source": [
    "# Крок 11: Знаходження відео з найбільшою та найменшою кількістю завантажень uploads\n",
    "video_with_most_uploads = data[data['uploads'] == data['uploads'].max()]['Title'].values[0]\n",
    "video_with_least_uploads = data[data['uploads'] == data['uploads'].min()]['Title'].values[0]\n",
    "print(\"Відео з найбільшою кількістю завантажень:\", video_with_most_uploads)\n",
    "print(\"Відео з найменшою кількістю завантажень:\", video_with_least_uploads)"
   ]
  },
  {
   "cell_type": "markdown",
   "id": "aecf3d3c-3f98-4ada-8366-ce18140a1b29",
   "metadata": {},
   "source": [
    "# Висновок\n",
    "У ході виконання даної практичної роботи я вирішила завдання, пов'язані з аналізом даних у форматі csv. Було проведено роботу з даними про глобальну статистику YouTube за 2023 рік (файл Global YouTube Statistics.csv). Для цього було використано бібліотеки pandas, numpy й matplotlib. Я обробила дані, привівши їх, де це можливо, до типу float і замінивши пропуски на середні значення, побудувала діаграму розподілу переглядів та визначила, наприклад, кількість унікальних країн (49), максимальну, мінімальну та середню кількість переглядів і країну з найбільшою кількістю відео на YouTube (США)."
   ]
  },
  {
   "cell_type": "code",
   "execution_count": null,
   "id": "d9d91360-3284-4540-ab64-0afb1e658a15",
   "metadata": {},
   "outputs": [],
   "source": []
  }
 ],
 "metadata": {
  "kernelspec": {
   "display_name": "Python 3 (ipykernel)",
   "language": "python",
   "name": "python3"
  },
  "language_info": {
   "codemirror_mode": {
    "name": "ipython",
    "version": 3
   },
   "file_extension": ".py",
   "mimetype": "text/x-python",
   "name": "python",
   "nbconvert_exporter": "python",
   "pygments_lexer": "ipython3",
   "version": "3.11.5"
  }
 },
 "nbformat": 4,
 "nbformat_minor": 5
}
