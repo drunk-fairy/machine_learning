{
 "cells": [
  {
   "cell_type": "markdown",
   "id": "caf50661-c88e-406c-b812-de7a09c4bc66",
   "metadata": {},
   "source": [
    "Практична робота №3\n",
    "Завдання 2\n",
    "Авдєєва Серафима ФІТ 4-4"
   ]
  },
  {
   "cell_type": "code",
   "execution_count": 25,
   "id": "e4758aed-e858-45ef-84e7-d61cd7cac0a7",
   "metadata": {},
   "outputs": [],
   "source": [
    "import pandas as pd\n",
    "\n",
    "# 1: Зчитування CSV файлу\n",
    "data = pd.read_csv(\"E:/University/виконані завдання/МН виконані/bestsellers with categories.csv\", encoding='unicode_escape')"
   ]
  },
  {
   "cell_type": "code",
   "execution_count": 26,
   "id": "4bd8856d-8ca4-4844-a228-c72b0130af33",
   "metadata": {},
   "outputs": [
    {
     "name": "stdout",
     "output_type": "stream",
     "text": [
      "                                                Name  \\\n",
      "0                      10-Day Green Smoothie Cleanse   \n",
      "1                                  11/22/63: A Novel   \n",
      "2            12 Rules for Life: An Antidote to Chaos   \n",
      "3                             1984 (Signet Classics)   \n",
      "4  5,000 Awesome Facts (About Everything!) (Natio...   \n",
      "5      A Dance with Dragons (A Song of Ice and Fire)   \n",
      "6  A Game of Thrones / A Clash of Kings / A Storm...   \n",
      "7                     A Gentleman in Moscow: A Novel   \n",
      "8      A Higher Loyalty: Truth, Lies, and Leadership   \n",
      "9                          A Man Called Ove: A Novel   \n",
      "\n",
      "                     Author  User Rating  Reviews  Price  Year        Genre  \n",
      "0                  JJ Smith          4.7    17350      8  2016  Non Fiction  \n",
      "1              Stephen King          4.6     2052     22  2011      Fiction  \n",
      "2        Jordan B. Peterson          4.7    18979     15  2018  Non Fiction  \n",
      "3             George Orwell          4.7    21424      6  2017      Fiction  \n",
      "4  National Geographic Kids          4.8     7665     12  2019  Non Fiction  \n",
      "5       George R. R. Martin          4.4    12643     11  2011      Fiction  \n",
      "6       George R. R. Martin          4.7    19735     30  2014      Fiction  \n",
      "7               Amor Towles          4.7    19699     15  2017      Fiction  \n",
      "8               James Comey          4.7     5983      3  2018  Non Fiction  \n",
      "9           Fredrik Backman          4.6    23848      8  2016      Fiction  \n"
     ]
    }
   ],
   "source": [
    "# 2: Виведення перших десяти рядків\n",
    "print(data.head(10))"
   ]
  },
  {
   "cell_type": "code",
   "execution_count": 27,
   "id": "4dff017f-8658-4bac-a5b7-9cec895fd2ef",
   "metadata": {},
   "outputs": [
    {
     "name": "stdout",
     "output_type": "stream",
     "text": [
      "Розмір датасету: (550, 7)\n",
      "Кількість книг у датасеті: 550\n",
      "Кількість книг у датасеті (без повторень): 351\n"
     ]
    }
   ],
   "source": [
    "# 3: Виведення розмірів датасету\n",
    "print(\"Розмір датасету:\", data.shape)\n",
    "\n",
    "# скільки книг зберігає дані датасет?\n",
    "book_count = data.shape[0]\n",
    "print(\"Кількість книг у датасеті:\", book_count)\n",
    "\n",
    "unique_book_count = data[\"Name\"].nunique()\n",
    "print(\"Кількість книг у датасеті (без повторень):\", unique_book_count)"
   ]
  },
  {
   "cell_type": "code",
   "execution_count": 28,
   "id": "40ebe596-04bc-4ddd-ac32-566f88817dca",
   "metadata": {},
   "outputs": [],
   "source": [
    "# 4.Змінення назв усіх колонок: назва з маленької букви, без пробілів через підкреслення.\n",
    "data.columns = ['name', 'author', 'user_rating', 'reviews', 'price', 'year', 'genre']"
   ]
  },
  {
   "cell_type": "code",
   "execution_count": 29,
   "id": "b3c30691-d953-47fc-a74e-468201e02055",
   "metadata": {},
   "outputs": [
    {
     "name": "stdout",
     "output_type": "stream",
     "text": [
      "Кількість пропусків у кожному стовпці: \n",
      "name           0\n",
      "author         0\n",
      "user_rating    0\n",
      "reviews        0\n",
      "price          0\n",
      "year           0\n",
      "genre          0\n",
      "dtype: int64\n",
      "Пропусків у змінних немає.\n"
     ]
    }
   ],
   "source": [
    "# 5. Визначення кількість пропусків у кожному стовпці\n",
    "missing_values = data.isna().sum()\n",
    "print(\"Кількість пропусків у кожному стовпці: \")\n",
    "print(missing_values)\n",
    "\n",
    "# Перевірка, чи є пропуски в змінних \n",
    "if missing_values.sum() > 0:\n",
    "    print(\"Пропуски в змінних. є\")\n",
    "else:\n",
    "    print(\"Пропусків у змінних немає.\")\n"
   ]
  },
  {
   "cell_type": "code",
   "execution_count": 30,
   "id": "e150bf27-337a-4329-9b8e-f97aca0aee6d",
   "metadata": {},
   "outputs": [
    {
     "name": "stdout",
     "output_type": "stream",
     "text": [
      "Унікальні жанри:\n",
      "['Non Fiction' 'Fiction']\n"
     ]
    }
   ],
   "source": [
    "# 6. Перевірка унікальних жанрів зі стовпця \"genre\"\n",
    "unique_genres = data['genre'].unique()\n",
    "\n",
    "# Виведення унікальних жанрів\n",
    "print(\"Унікальні жанри:\")\n",
    "print(unique_genres)"
   ]
  },
  {
   "cell_type": "code",
   "execution_count": 31,
   "id": "b2254237-9b56-4009-a49f-17c6504b69fe",
   "metadata": {},
   "outputs": [
    {
     "name": "stdout",
     "output_type": "stream",
     "text": [
      "Максимальна ціна: 105\n",
      "Мінімальна ціна: 0\n",
      "Середня ціна: 13.1\n",
      "Медіанна ціна: 11.0\n"
     ]
    }
   ],
   "source": [
    "# 7. Визначення максимальної, мінімальної, медіанної ціни\n",
    "# за допомогою методів  max, min, mean, median\n",
    "\n",
    "print(\"Максимальна ціна:\", data['price'].max())\n",
    "print(\"Мінімальна ціна:\", data['price'].min())\n",
    "print(\"Середня ціна:\", data['price'].mean())\n",
    "print(\"Медіанна ціна:\", data['price'].median())\n"
   ]
  },
  {
   "cell_type": "code",
   "execution_count": 32,
   "id": "f6a1de13-017d-4952-8c28-10dfb707d587",
   "metadata": {},
   "outputs": [
    {
     "name": "stdout",
     "output_type": "stream",
     "text": [
      "Найвищий рейтинг у датасеті: 4.9\n",
      "Кількість книг з найвищим рейтингом: 52\n",
      "Книга з найбільшою кількістю відгуків:\n",
      "                        name  reviews\n",
      "534  Where the Crawdads Sing    87841\n",
      "Найдорожча книга серед книг 2010 року:\n",
      "                                                  name  price\n",
      "272  Publication Manual of the American Psychologic...     46\n",
      "Кількість книг жанру Fiction у 2012 році: 21\n",
      "Кількість книг з рейтингом 4.9 у 2010 та 2011 роках: 1\n"
     ]
    }
   ],
   "source": [
    "# 8\n",
    "# Який рейтинг у датасеті найвищий?\n",
    "max_rating = data['user_rating'].max()\n",
    "print(\"Найвищий рейтинг у датасеті:\", max_rating)\n",
    "\n",
    "# Скільки книг мають такий рейтинг?\n",
    "books_max_rating = data[data['user_rating'] == max_rating]\n",
    "count_books_max_rating = len(books_max_rating)\n",
    "print(\"Кількість книг з найвищим рейтингом:\", count_books_max_rating)\n",
    "\n",
    "# Яка книга має найбільше відгуків?\n",
    "book_max_reviews = data[data['reviews'] == data['reviews'].max()]\n",
    "print(\"Книга з найбільшою кількістю відгуків:\")\n",
    "print(book_max_reviews[['name', 'reviews']])\n",
    "\n",
    "# З тих книг, що потрапили до Топ-50 у 2010 році, яка книга найдорожча?\n",
    "books_2010 = data[data['year'] == 2010]\n",
    "most_expensive_2010 = books_2010[books_2010['price'] == books_2010['price'].max()]\n",
    "print(\"Найдорожча книга серед книг 2010 року:\")\n",
    "print(most_expensive_2010[['name', 'price']])\n",
    "\n",
    "# Скільки книг жанру Fiction потрапили до Топ-50 у 2012 році?\n",
    "fiction_2012 = data[(data['year'] == 2012) & (data['genre'] == 'Fiction')]\n",
    "count_fiction_2012 = len(fiction_2012)\n",
    "print(\"Кількість книг жанру Fiction у 2012 році:\", count_fiction_2012)\n",
    "\n",
    "# Скільки книг з рейтингом 4.9 потрапило до рейтингу у 2010 та 2011 роках (використовуйте | або метод isin)?\n",
    "rating_4_9 = data[(data['user_rating'] == 4.9) & (data['year'].isin([2010, 2011]))]\n",
    "count_rating_4_9 = len(rating_4_9)\n",
    "print(\"Кількість книг з рейтингом 4.9 у 2010 та 2011 роках:\", count_rating_4_9)"
   ]
  },
  {
   "cell_type": "code",
   "execution_count": 33,
   "id": "dad9c03f-8e8c-4715-8f3a-0445ee5c6ff2",
   "metadata": {},
   "outputs": [
    {
     "name": "stdout",
     "output_type": "stream",
     "text": [
      "             max  min\n",
      "genre                \n",
      "Fiction       82    0\n",
      "Non Fiction  105    0\n"
     ]
    }
   ],
   "source": [
    "# 9. Вивести максимальну і  мінімальну ціну для жанру Fiction I NonFiction \n",
    "# (за допомогою методів  groupby та agg, для підрахунку мінімальних та\n",
    "# максимальних значень використовуйте max та min). \n",
    "# Використовуйте тількі потрібні вам стовпці\n",
    "\n",
    "genre_prices = data.groupby('genre')['price'].agg(['max', 'min'])\n",
    "print(genre_prices)"
   ]
  },
  {
   "cell_type": "markdown",
   "id": "9494edb9-85f7-4921-8f6c-9207a087f56d",
   "metadata": {},
   "source": [
    "Висновок\n",
    "\n",
    "У ході виконання даної практичної роботи я вирішила завдання, пов'язані з аналізом даних у форматі csv. Було проведено роботу з даними про глобальну статистику YouTube за 2023 рік (файл Global YouTube Statistics.csv) та про найбільш продавані книги Amazon з 2009 по 2019 рік (файл bestsellers with categories.csv). Для цього було використано бібліотеки pandas, numpy й matplotlib. Я обробила дані, привівши їх, де це можливо, до типу float і замінивши пропуски на середні значення, побудувала діаграму розподілу переглядів та визначила, наприклад, кількість унікальних країн у першому файлі (49), країну з найбільшою кількістю відео на YouTube (США), максимальну (105), мінімальну(0) та медіанну(11) ціну та книгу з найбільшою кількістю відгуків (Where the Crawdads Sing) тощо."
   ]
  }
 ],
 "metadata": {
  "kernelspec": {
   "display_name": "Python 3 (ipykernel)",
   "language": "python",
   "name": "python3"
  },
  "language_info": {
   "codemirror_mode": {
    "name": "ipython",
    "version": 3
   },
   "file_extension": ".py",
   "mimetype": "text/x-python",
   "name": "python",
   "nbconvert_exporter": "python",
   "pygments_lexer": "ipython3",
   "version": "3.9.7"
  }
 },
 "nbformat": 4,
 "nbformat_minor": 5
}
