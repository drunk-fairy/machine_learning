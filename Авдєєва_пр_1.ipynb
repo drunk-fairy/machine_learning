{
 "cells": [
  {
   "cell_type": "markdown",
   "id": "450e02ed-a04a-48ae-ae22-3694d5995c2c",
   "metadata": {},
   "source": [
    "Практична робота №1 \n",
    "\n",
    "Авдєєва Серафима ФІТ 4-4\n",
    "\n",
    "Варіант 1"
   ]
  },
  {
   "cell_type": "code",
   "execution_count": 259,
   "id": "3eb7b9f9-b443-4165-bbf8-4dfc801e3da1",
   "metadata": {},
   "outputs": [],
   "source": [
    "import numpy as np"
   ]
  },
  {
   "cell_type": "markdown",
   "id": "785f7cd2-1271-41a6-a338-f764b06ee722",
   "metadata": {},
   "source": [
    "Завдання 1.\n",
    "\n",
    "1.\tСтворіть одновимірний масив (вектор) з останніми 10-ма натуральними числами та виведіть його значення\r\n"
   ]
  },
  {
   "cell_type": "code",
   "execution_count": 260,
   "id": "2957ae42-0681-4e49-b8ff-aee51e8e2c32",
   "metadata": {},
   "outputs": [
    {
     "name": "stdout",
     "output_type": "stream",
     "text": [
      "[ 1  2  3  4  5  6  7  8  9 10]\n"
     ]
    }
   ],
   "source": [
    "a = np.arange(1, 11)\n",
    "print(a)"
   ]
  },
  {
   "cell_type": "markdown",
   "id": "21d1e077-9517-4346-9b2b-900f646cef9b",
   "metadata": {},
   "source": [
    "Завдання 2\n",
    "\r\n",
    "1.\tСтворіть двовимірний масив (матрицю) розміром 4x4, заповніть його одиницями та виведіть його значенн.\r\n"
   ]
  },
  {
   "cell_type": "code",
   "execution_count": 261,
   "id": "bb6466b4-9312-49e4-a36b-61361e740496",
   "metadata": {},
   "outputs": [
    {
     "name": "stdout",
     "output_type": "stream",
     "text": [
      "[[1. 1. 1. 1.]\n",
      " [1. 1. 1. 1.]\n",
      " [1. 1. 1. 1.]\n",
      " [1. 1. 1. 1.]]\n"
     ]
    }
   ],
   "source": [
    "a = np.ones((4,4))\n",
    "print(a)"
   ]
  },
  {
   "cell_type": "markdown",
   "id": "608fa4a7-8746-43d8-9803-4d4eb7c4a407",
   "metadata": {},
   "source": [
    "Завдання 3\n",
    "\n",
    "1.\tСтворіть масив розміром 4x4, заповніть його випадковими цілими числами в діапазоні від 1 до 100 та виведіть його значення\r\n"
   ]
  },
  {
   "cell_type": "code",
   "execution_count": 262,
   "id": "06f506e1-086b-48cd-b89c-219f180004f7",
   "metadata": {},
   "outputs": [
    {
     "name": "stdout",
     "output_type": "stream",
     "text": [
      "[[ 9 80 92 86]\n",
      " [ 9 93  9 87]\n",
      " [83 86 54  5]\n",
      " [49 40 48 24]]\n"
     ]
    }
   ],
   "source": [
    "a = np.random.randint(1, 101, (4,4))\n",
    "print(a)"
   ]
  },
  {
   "cell_type": "markdown",
   "id": "42d77259-df34-4c1c-95fb-f57c19334614",
   "metadata": {},
   "source": [
    "Завдання 4\r\n",
    "\r\n",
    "1.\tСтворіть масив розміром 3x3, заповніть його випадковими дійсними числами в діапазоні від 0 до 1 та виведіть його значенн.\r\n"
   ]
  },
  {
   "cell_type": "code",
   "execution_count": 263,
   "id": "6e9f0a9f-306d-4315-b3fb-33bd8571c2e8",
   "metadata": {},
   "outputs": [
    {
     "name": "stdout",
     "output_type": "stream",
     "text": [
      "[[0.49456557 0.55970033 0.11320198]\n",
      " [0.13279784 0.20395217 0.13011776]\n",
      " [0.92278543 0.99063585 0.50333932]]\n"
     ]
    }
   ],
   "source": [
    "a = np.random.rand(3, 3)\n",
    "print(a)"
   ]
  },
  {
   "cell_type": "markdown",
   "id": "3a1b9b50-021a-48f3-944d-81c78ddac9bb",
   "metadata": {},
   "source": [
    "Завдання 5\n",
    "\n",
    "1.\tСтворіть два одновимірних масиви розміром 6, заповніть їх випадковими цілими числами в діапазоні від 1 до 20 та виконайте на них поелементні операції додавання, віднімання та множення."
   ]
  },
  {
   "cell_type": "code",
   "execution_count": 264,
   "id": "ae094907-2b8f-455a-bf9d-4f9ca0858867",
   "metadata": {},
   "outputs": [
    {
     "name": "stdout",
     "output_type": "stream",
     "text": [
      "a =  [19 15  8 11  1  1]\n",
      "b =  [16  3 20  2 11 13]\n",
      "a + b =  [35 18 28 13 12 14]\n",
      "a - b =  [  3  12 -12   9 -10 -12]\n",
      "a * b =  [304  45 160  22  11  13]\n"
     ]
    }
   ],
   "source": [
    "a = np.random.randint(1, 21, size=6)\n",
    "b = np.random.randint(1, 21, size=6)\n",
    "\n",
    "print(\"a = \", a)\n",
    "print(\"b = \", b)\n",
    "\n",
    "print(\"a + b = \", a + b)\n",
    "print(\"a - b = \", a - b)\n",
    "print(\"a * b = \", a * b)"
   ]
  },
  {
   "cell_type": "markdown",
   "id": "c0cce1bb-51f5-45d4-8cc3-88475cf3b29d",
   "metadata": {},
   "source": [
    "Завдання 6\r\n",
    "\r\n",
    "1.\tСтворіть два вектори розміром 5, заповніть їх довільними цілими числами та знайдіть їх скалярний добуто.\r\n"
   ]
  },
  {
   "cell_type": "code",
   "execution_count": 265,
   "id": "6fcc49fc-0b27-4f28-8b09-ae860c76780e",
   "metadata": {},
   "outputs": [
    {
     "name": "stdout",
     "output_type": "stream",
     "text": [
      "a =  [15 19  6 18 18]\n",
      "b =  [ 9 10 14  5 15]\n",
      "Скалярний добуток векторів дорівнює: 769\n"
     ]
    }
   ],
   "source": [
    "a = np.random.randint(1, 21, size=5)\n",
    "b = np.random.randint(1, 21, size=5)\n",
    "\n",
    "dot_a_b = np.dot(a, b)\n",
    "\n",
    "print(\"a = \", a)\n",
    "print(\"b = \", b)\n",
    "print(\"Скалярний добуток векторів дорівнює:\", dot_a_b)"
   ]
  },
  {
   "cell_type": "markdown",
   "id": "f9c7e24f-c300-4c4f-9f9d-fc6c16233971",
   "metadata": {},
   "source": [
    "Завдання 7\r\n",
    "\r\n",
    "1.\tСтворіть дві матриці розміром 3x2 та 2x4, заповніть їх випадковими цілими числами в діапазоні від 1 до 20 та перемножте їх між собо.\r\n"
   ]
  },
  {
   "cell_type": "code",
   "execution_count": 266,
   "id": "b0306d27-1f3c-46f0-8dce-9b6fe8290ab9",
   "metadata": {},
   "outputs": [
    {
     "name": "stdout",
     "output_type": "stream",
     "text": [
      "a =  [[20  9]\n",
      " [17  9]\n",
      " [15 18]]\n",
      "b =  [[ 6 17 14  2]\n",
      " [10 10 20  3]]\n",
      "Результат множення матриць:\n",
      "[[210 430 460  67]\n",
      " [192 379 418  61]\n",
      " [270 435 570  84]]\n"
     ]
    }
   ],
   "source": [
    "a = np.random.randint(1, 21, size=(3, 2))\n",
    "b = np.random.randint(1, 21, size=(2, 4))\n",
    "\n",
    "dot_a_b = np.dot(a, b)\n",
    "\n",
    "print(\"a = \", a)\n",
    "print(\"b = \", b)\n",
    "print(\"Результат множення матриць:\")\n",
    "print(dot_a_b)"
   ]
  },
  {
   "cell_type": "markdown",
   "id": "0a64d317-976b-4a20-ac20-e808a8e6e83b",
   "metadata": {},
   "source": [
    "Завдання 8\r\n",
    "\n",
    "1.\tСтворіть матрицю розміром 2x2, заповніть її випадковими цілими числами в діапазоні від 1 до 7 та знайдіть її обернену матрицю\r\n"
   ]
  },
  {
   "cell_type": "code",
   "execution_count": 267,
   "id": "0e03f38c-57b1-4ce8-93b6-c60d52815e29",
   "metadata": {},
   "outputs": [
    {
     "name": "stdout",
     "output_type": "stream",
     "text": [
      "Вихідна матриця:\n",
      "[[2 3]\n",
      " [1 3]]\n",
      "Обернена матриця:\n",
      "[[ 1.         -1.        ]\n",
      " [-0.33333333  0.66666667]]\n"
     ]
    }
   ],
   "source": [
    "a = np.random.randint(1, 8, size=(2, 2))\n",
    "print(\"Вихідна матриця:\")\n",
    "print(a)\n",
    "\n",
    "if np.linalg.det(a) == 0:\n",
    "    print(\"Матриця не має оберненої матриці.\")\n",
    "else:\n",
    "    inv_a = np.linalg.inv(a)\n",
    "    print(\"Обернена матриця:\")\n",
    "    print(inv_a)"
   ]
  },
  {
   "cell_type": "markdown",
   "id": "b02735b2-b813-4d2d-ad60-cf9b0c768ac7",
   "metadata": {},
   "source": [
    "Завдання 9.\r\n",
    "\r\n",
    "1.\tСтворіть матрицю розміром 3x3, заповніть її випадковими дійсними числами в діапазоні від 0 до 1 та транспонуйте ї.\r\n"
   ]
  },
  {
   "cell_type": "code",
   "execution_count": 268,
   "id": "a6e4cfff-7153-44ab-ae46-df28e0da6d14",
   "metadata": {},
   "outputs": [
    {
     "name": "stdout",
     "output_type": "stream",
     "text": [
      "[[0.53542513 0.37269604 0.79699138]\n",
      " [0.93273971 0.63582186 0.97595251]\n",
      " [0.7105137  0.6365941  0.6251778 ]]\n",
      "Транспонована матриця:\n",
      "[[0.53542513 0.93273971 0.7105137 ]\n",
      " [0.37269604 0.63582186 0.6365941 ]\n",
      " [0.79699138 0.97595251 0.6251778 ]]\n"
     ]
    }
   ],
   "source": [
    "a = np.random.rand(3, 3)\n",
    "print(a)\n",
    "\n",
    "a_transp = np.transpose(a)\n",
    "print(\"Транспонована матриця:\")\n",
    "print(a_transp)"
   ]
  },
  {
   "cell_type": "markdown",
   "id": "244a0582-f128-4f2b-8b2f-2ac1a5fa4660",
   "metadata": {},
   "source": [
    "Завдання 10\n",
    "\n",
    "1.\tСтворіть матрицю розміром 3x4 та вектор розміром 4, заповніть їх випадковими цілими числами в діапазоні від 1 до 10 та знайдіть суму елементів отриманого вектору.\n"
   ]
  },
  {
   "cell_type": "code",
   "execution_count": 269,
   "id": "650520dd-adb4-493d-b3a4-3e26dbdbe9af",
   "metadata": {},
   "outputs": [
    {
     "name": "stdout",
     "output_type": "stream",
     "text": [
      "Матриця:\n",
      "[[ 7  7  3  5]\n",
      " [ 6  8  9 10]\n",
      " [10  6  6  2]]\n",
      "Вектор:\n",
      "[ 2 10  1  7]\n",
      "Сума елементів вектора\n",
      "20\n"
     ]
    }
   ],
   "source": [
    "matr = np.random.randint(1, 11, size=(3, 4))\n",
    "vect = np.random.randint(1, 11, size=4)\n",
    "print(\"Матриця:\")\n",
    "print(matr)\n",
    "print(\"Вектор:\")\n",
    "print(vect)\n",
    "\n",
    "sum = np.sum(vect)\n",
    "print(\"Сума елементів вектора\")\n",
    "print(sum)"
   ]
  },
  {
   "cell_type": "markdown",
   "id": "584cb6e4-0453-4d2c-8e8d-d24e7a915cbb",
   "metadata": {},
   "source": [
    "Завдання 11\r\n",
    "\r\n",
    "1.\tСтворіть матрицю розміром 2x3 та вектор розміром 3, заповніть матрицю випадковими цілими числами в діапазоні від 1 до 10, а вектор - випадковими цілими числами в діапазоні від 1 до 10, і знайдіть добуток матриці на векто.\r\n"
   ]
  },
  {
   "cell_type": "code",
   "execution_count": 270,
   "id": "f1353351-661e-4ca0-990a-5d2d7a9bd724",
   "metadata": {},
   "outputs": [
    {
     "name": "stdout",
     "output_type": "stream",
     "text": [
      "Матриця:\n",
      "[[10  5  9]\n",
      " [ 8  8  7]]\n",
      "Вектор:\n",
      "[9 4 4]\n",
      "Результат множення матриці на вектор:\n",
      "[146 132]\n"
     ]
    }
   ],
   "source": [
    "matr = np.random.randint(1, 11, size=(2, 3))\n",
    "vect = np.random.randint(1, 11, size=3)\n",
    "print(\"Матриця:\")\n",
    "print(matr)\n",
    "print(\"Вектор:\")\n",
    "print(vect)\n",
    "\n",
    "print(\"Результат множення матриці на вектор:\")\n",
    "result = np.dot(matr, vect)\n",
    "print(result)"
   ]
  },
  {
   "cell_type": "markdown",
   "id": "bbfc2dd5-71f0-4cc2-a2e2-9969ff595dce",
   "metadata": {},
   "source": [
    "Завдання 12\r\n",
    "\r\n",
    "1.\tСтворіть дві матриці розміром 2x2, заповніть їх випадковими цілими числами в діапазоні від 1 до 10 та знайдіть їхню сум.\r\n"
   ]
  },
  {
   "cell_type": "code",
   "execution_count": 271,
   "id": "4645c927-b39d-40c9-8f93-697960c95c3f",
   "metadata": {},
   "outputs": [
    {
     "name": "stdout",
     "output_type": "stream",
     "text": [
      "Матриця a:\n",
      "[[8 6]\n",
      " [1 2]]\n",
      "Матриця b:\n",
      "[[ 7  9]\n",
      " [10  4]]\n",
      "Сума матриць:\n",
      "[[15 15]\n",
      " [11  6]]\n"
     ]
    }
   ],
   "source": [
    "a = np.random.randint(1, 11, size=(2,2))\n",
    "b = np.random.randint(1, 11, size=(2,2))\n",
    "print(\"Матриця a:\")\n",
    "print(a)\n",
    "print(\"Матриця b:\")\n",
    "print(b)\n",
    "sum = a+b\n",
    "print(\"Сума матриць:\")\n",
    "print(sum)"
   ]
  },
  {
   "cell_type": "markdown",
   "id": "d7c7f9b0-3479-4ba6-ae5b-877cae532f4a",
   "metadata": {},
   "source": [
    "Завдання 13\r\n",
    "\n",
    "1.\tСтворіть дві матриці розміром 2x2, заповніть їх випадковими дійсними числами в діапазоні від 0 до 1 та знайдіть їх добуток\r\n"
   ]
  },
  {
   "cell_type": "code",
   "execution_count": 272,
   "id": "76e4d0b3-f2de-4859-8eac-87f58173e107",
   "metadata": {},
   "outputs": [
    {
     "name": "stdout",
     "output_type": "stream",
     "text": [
      "Перша матриця:\n",
      "[[0.20754703 0.60217256]\n",
      " [0.67979957 0.14575847]]\n",
      "Друга матриця:\n",
      "[[0.16852976 0.28065255]\n",
      " [0.36633799 0.28836375]]\n",
      "Добуток матриць:\n",
      "[[0.25557654 0.23189334]\n",
      " [0.16796332 0.23281894]]\n"
     ]
    }
   ],
   "source": [
    "a = np.random.rand(2, 2)\n",
    "b = np.random.rand(2, 2)\n",
    "print(\"Перша матриця:\")\n",
    "print(a)\n",
    "print(\"Друга матриця:\")\n",
    "print(b)\n",
    "\n",
    "print(\"Добуток матриць:\")\n",
    "result = np.dot(a, b)\n",
    "print(result)"
   ]
  },
  {
   "cell_type": "markdown",
   "id": "2c5e38e0-4ab0-4222-aeba-e42ad88becbf",
   "metadata": {},
   "source": [
    "Завдання 14\r\n",
    "\r\n",
    "1.\tСтворіть матрицю розміром 5x5, заповніть її випадковими дійсними числами в діапазоні від 0 до 1 та знайдіть суму елементів матриці.\r\n"
   ]
  },
  {
   "cell_type": "code",
   "execution_count": 273,
   "id": "05275c96-739e-47b5-ad99-a513ddff5fd6",
   "metadata": {},
   "outputs": [
    {
     "name": "stdout",
     "output_type": "stream",
     "text": [
      "Матриця\n",
      "[[0.01431611 0.73441811 0.76044719 0.12509583 0.4259529 ]\n",
      " [0.59866966 0.73538254 0.03143386 0.45713377 0.1296727 ]\n",
      " [0.56603772 0.82415872 0.42191809 0.94904842 0.31271093]\n",
      " [0.17166994 0.9316155  0.7918736  0.31830244 0.64440618]\n",
      " [0.63441773 0.81735034 0.75029178 0.24193481 0.75442045]]\n",
      "Сума елементів матриці:\n",
      "13.142679316755743\n"
     ]
    }
   ],
   "source": [
    "a = np.random.rand(5, 5)\n",
    "sum_a = np.sum(a)\n",
    "print(\"Матриця\")\n",
    "print(a)\n",
    "print(\"Сума елементів матриці:\")\n",
    "print(sum_a)"
   ]
  },
  {
   "cell_type": "markdown",
   "id": "cf0fa7a3-2490-47e7-bb02-251f91923556",
   "metadata": {},
   "source": [
    "Завдання 15\r\n",
    "\r\n",
    "1.\tСтворіть матрицю розміром 3x3, заповніть її випадковими дійсними числами в діапазоні від -1 до 1 та знайдіть вектор-стовпчик, що містить суму елементів кожного рядка матриці.\r\n"
   ]
  },
  {
   "cell_type": "code",
   "execution_count": 274,
   "id": "413b6749-dba1-40ee-ad76-cbe0319659e9",
   "metadata": {},
   "outputs": [
    {
     "name": "stdout",
     "output_type": "stream",
     "text": [
      "Матриця:\n",
      "[[ 0.57162953 -0.15138218  0.34541872]\n",
      " [ 0.34719258  0.38636566  0.43679166]\n",
      " [ 0.16259817 -0.99862922  0.45537756]]\n",
      "Вектор-стовпчик з сумами елементів кожного рядка:\n",
      "[[ 0.76566607]\n",
      " [ 1.1703499 ]\n",
      " [-0.38065349]]\n"
     ]
    }
   ],
   "source": [
    "a = np.random.randint(-100000000, +100000000, (3,3))/100000000\n",
    "print(\"Матриця:\")\n",
    "print(a)\n",
    "\n",
    "row_sums = a.sum(axis=1)\n",
    "\n",
    "col_vec = row_sums.reshape((-1, 1))\n",
    "\n",
    "print(\"Вектор-стовпчик з сумами елементів кожного рядка:\")\n",
    "print(col_vec)"
   ]
  },
  {
   "cell_type": "markdown",
   "id": "f53a9649-48c3-41a6-bd52-1f8a0b2756f2",
   "metadata": {},
   "source": [
    "Висновок: у даній практичній роботі я виконувала різноманітні операції з матрицями та векторами, такі як додавання, множення, віднімання, заповнення випадковими числами, знаходження суми елементів, транспонування тощо, з використанням пакета NumPy."
   ]
  },
  {
   "cell_type": "code",
   "execution_count": null,
   "id": "7d8ca855-a887-41ed-b4c8-ee44ad235559",
   "metadata": {},
   "outputs": [],
   "source": []
  }
 ],
 "metadata": {
  "kernelspec": {
   "display_name": "Python 3 (ipykernel)",
   "language": "python",
   "name": "python3"
  },
  "language_info": {
   "codemirror_mode": {
    "name": "ipython",
    "version": 3
   },
   "file_extension": ".py",
   "mimetype": "text/x-python",
   "name": "python",
   "nbconvert_exporter": "python",
   "pygments_lexer": "ipython3",
   "version": "3.9.7"
  }
 },
 "nbformat": 4,
 "nbformat_minor": 5
}
