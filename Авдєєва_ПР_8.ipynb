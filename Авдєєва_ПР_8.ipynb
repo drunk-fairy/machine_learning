{
  "nbformat": 4,
  "nbformat_minor": 0,
  "metadata": {
    "colab": {
      "provenance": []
    },
    "kernelspec": {
      "name": "python3",
      "display_name": "Python 3"
    },
    "language_info": {
      "name": "python"
    }
  },
  "cells": [
    {
      "cell_type": "markdown",
      "source": [
        "#Практична робота 8\n",
        "## Розробка рекомендаційної системи\n",
        "## Авдєєва Серафима ФІТ 4-4"
      ],
      "metadata": {
        "id": "oTx6eyVuzPbo"
      }
    },
    {
      "cell_type": "code",
      "source": [
        "!pip install scikit-surprise"
      ],
      "metadata": {
        "colab": {
          "base_uri": "https://localhost:8080/"
        },
        "id": "89O-ZOf1NuHB",
        "outputId": "d23804ee-bae5-4473-a2b7-e14cb75010fb"
      },
      "execution_count": 35,
      "outputs": [
        {
          "output_type": "stream",
          "name": "stdout",
          "text": [
            "Requirement already satisfied: scikit-surprise in /usr/local/lib/python3.10/dist-packages (1.1.3)\n",
            "Requirement already satisfied: joblib>=1.0.0 in /usr/local/lib/python3.10/dist-packages (from scikit-surprise) (1.3.2)\n",
            "Requirement already satisfied: numpy>=1.17.3 in /usr/local/lib/python3.10/dist-packages (from scikit-surprise) (1.23.5)\n",
            "Requirement already satisfied: scipy>=1.3.2 in /usr/local/lib/python3.10/dist-packages (from scikit-surprise) (1.11.3)\n"
          ]
        }
      ]
    },
    {
      "cell_type": "code",
      "execution_count": 36,
      "metadata": {
        "id": "QNLV36Y3LQHj"
      },
      "outputs": [],
      "source": [
        "from surprise import Dataset\n",
        "from surprise import SVD, SVDpp, NMF, KNNBasic, KNNWithZScore\n",
        "from surprise.model_selection import cross_validate\n",
        "import matplotlib.pyplot as plt\n",
        "import pandas as pd\n",
        "import numpy as np"
      ]
    },
    {
      "cell_type": "code",
      "source": [
        "# Використати датасет   movielens-100k\n",
        "data = Dataset.load_builtin(name='ml-100k')"
      ],
      "metadata": {
        "id": "F9Spi9wBMdJt"
      },
      "execution_count": 37,
      "outputs": []
    },
    {
      "cell_type": "code",
      "source": [
        "# Для кращого розуміння роздрукуйте датасет.\n",
        "df = pd.DataFrame(data.raw_ratings, columns=['user', 'item', 'rating', 'timestamp'])\n",
        "print(df.head())"
      ],
      "metadata": {
        "colab": {
          "base_uri": "https://localhost:8080/"
        },
        "id": "EsZ7ZLC8Mslk",
        "outputId": "fbfa91bf-3d4a-4755-a19d-0e696eed834a"
      },
      "execution_count": 38,
      "outputs": [
        {
          "output_type": "stream",
          "name": "stdout",
          "text": [
            "  user item  rating  timestamp\n",
            "0  196  242     3.0  881250949\n",
            "1  186  302     3.0  891717742\n",
            "2   22  377     1.0  878887116\n",
            "3  244   51     2.0  880606923\n",
            "4  166  346     1.0  886397596\n"
          ]
        }
      ]
    },
    {
      "cell_type": "code",
      "source": [
        "#Використайте алгоритми SVD, SVDpp, NMF  + ще два на власний вибір\n",
        "svd_alg = SVD()\n",
        "svdpp_alg = SVDpp()\n",
        "nmf_alg = NMF()\n",
        "knnbasic_alg = KNNBasic()\n",
        "knnzscore_alg = KNNWithZScore()"
      ],
      "metadata": {
        "id": "ZJOOHr1mM34X"
      },
      "execution_count": 39,
      "outputs": []
    },
    {
      "cell_type": "code",
      "source": [
        "# Найкращі параметри для всіх алгоритмів підберіть за допомогою крос-валідації.\n",
        "cv_svd = cross_validate(svd_alg, data, measures=['RMSE'], cv=5, verbose=True)\n",
        "cv_svdpp = cross_validate(svdpp_alg , data, measures=['RMSE'], cv=5, verbose=True)\n",
        "cv_nmf = cross_validate(nmf_alg, data, measures=['RMSE'], cv=5, verbose=True)\n",
        "cv_knnbasic = cross_validate(knnbasic_alg, data, measures=['RMSE'], cv=5, verbose=True)\n",
        "cv_knnwithzscore = cross_validate(knnzscore_alg, data, measures=['RMSE'], cv=5, verbose=True)"
      ],
      "metadata": {
        "colab": {
          "base_uri": "https://localhost:8080/"
        },
        "id": "QRGj9A52OuV7",
        "outputId": "fab32a08-3231-4f97-bfe8-82f9b41168d8"
      },
      "execution_count": 40,
      "outputs": [
        {
          "output_type": "stream",
          "name": "stdout",
          "text": [
            "Evaluating RMSE of algorithm SVD on 5 split(s).\n",
            "\n",
            "                  Fold 1  Fold 2  Fold 3  Fold 4  Fold 5  Mean    Std     \n",
            "RMSE (testset)    0.9357  0.9300  0.9308  0.9399  0.9400  0.9353  0.0043  \n",
            "Fit time          1.74    1.51    1.41    4.04    3.13    2.37    1.04    \n",
            "Test time         0.16    0.24    0.23    0.29    0.25    0.23    0.05    \n",
            "Evaluating RMSE of algorithm SVDpp on 5 split(s).\n",
            "\n",
            "                  Fold 1  Fold 2  Fold 3  Fold 4  Fold 5  Mean    Std     \n",
            "RMSE (testset)    0.9118  0.9269  0.9225  0.9140  0.9173  0.9185  0.0055  \n",
            "Fit time          29.70   26.56   26.71   26.81   27.14   27.39   1.17    \n",
            "Test time         5.22    4.58    6.30    4.35    4.59    5.01    0.71    \n",
            "Evaluating RMSE of algorithm NMF on 5 split(s).\n",
            "\n",
            "                  Fold 1  Fold 2  Fold 3  Fold 4  Fold 5  Mean    Std     \n",
            "RMSE (testset)    0.9594  0.9665  0.9624  0.9685  0.9629  0.9639  0.0032  \n",
            "Fit time          2.11    2.13    2.48    2.31    2.13    2.23    0.15    \n",
            "Test time         0.27    0.11    0.34    0.12    0.11    0.19    0.10    \n",
            "Computing the msd similarity matrix...\n",
            "Done computing similarity matrix.\n",
            "Computing the msd similarity matrix...\n",
            "Done computing similarity matrix.\n",
            "Computing the msd similarity matrix...\n",
            "Done computing similarity matrix.\n",
            "Computing the msd similarity matrix...\n",
            "Done computing similarity matrix.\n",
            "Computing the msd similarity matrix...\n",
            "Done computing similarity matrix.\n",
            "Evaluating RMSE of algorithm KNNBasic on 5 split(s).\n",
            "\n",
            "                  Fold 1  Fold 2  Fold 3  Fold 4  Fold 5  Mean    Std     \n",
            "RMSE (testset)    0.9784  0.9751  0.9763  0.9793  0.9794  0.9777  0.0017  \n",
            "Fit time          0.34    0.34    0.36    0.38    0.36    0.35    0.02    \n",
            "Test time         3.21    4.24    3.22    3.16    4.33    3.63    0.53    \n",
            "Computing the msd similarity matrix...\n",
            "Done computing similarity matrix.\n",
            "Computing the msd similarity matrix...\n",
            "Done computing similarity matrix.\n",
            "Computing the msd similarity matrix...\n",
            "Done computing similarity matrix.\n",
            "Computing the msd similarity matrix...\n",
            "Done computing similarity matrix.\n",
            "Computing the msd similarity matrix...\n",
            "Done computing similarity matrix.\n",
            "Evaluating RMSE of algorithm KNNWithZScore on 5 split(s).\n",
            "\n",
            "                  Fold 1  Fold 2  Fold 3  Fold 4  Fold 5  Mean    Std     \n",
            "RMSE (testset)    0.9541  0.9470  0.9486  0.9505  0.9559  0.9512  0.0033  \n",
            "Fit time          0.47    0.49    0.50    0.50    0.49    0.49    0.01    \n",
            "Test time         3.41    3.38    4.52    3.40    3.39    3.62    0.45    \n"
          ]
        }
      ]
    },
    {
      "cell_type": "code",
      "source": [
        "# Обчисліть середнє значення середньоквадратичної помилки RMSE\n",
        "# для кожного алгоритму на основі результатів крос-валідації.\n",
        "rmse_svd = cv_svd['test_rmse'].mean()\n",
        "rmse_svdpp = cv_svdpp['test_rmse'].mean()\n",
        "rmse_nmf = cv_nmf['test_rmse'].mean()\n",
        "rmse_knnbasic = cv_knnbasic['test_rmse'].mean()\n",
        "rmse_knnwithzscore = cv_knnwithzscore['test_rmse'].mean()"
      ],
      "metadata": {
        "id": "RzRMDczGQCso"
      },
      "execution_count": 41,
      "outputs": []
    },
    {
      "cell_type": "code",
      "source": [
        "print(f\"SVD: {rmse_svd}\")\n",
        "print(f\"SVDpp: {rmse_svdpp}\")\n",
        "print(f\"NMF: {rmse_nmf}\")\n",
        "print(f\"KNNBasic: {rmse_knnbasic}\")\n",
        "print(f\"KNNWithZScore: {rmse_knnwithzscore}\")"
      ],
      "metadata": {
        "colab": {
          "base_uri": "https://localhost:8080/"
        },
        "id": "kNXawZFnWSFI",
        "outputId": "158b1399-91ce-4a70-bc06-8c620748d0e2"
      },
      "execution_count": 42,
      "outputs": [
        {
          "output_type": "stream",
          "name": "stdout",
          "text": [
            "SVD: 0.9352673189836175\n",
            "SVDpp: 0.9184887391672485\n",
            "NMF: 0.9639248655232\n",
            "KNNBasic: 0.9776967014534014\n",
            "KNNWithZScore: 0.9512339705362954\n"
          ]
        }
      ]
    },
    {
      "cell_type": "code",
      "source": [
        "# Виберіть оптимальний алгоритм\n",
        "# (Зазвичай, алгоритм з найменшим значенням RMSE\n",
        "# вважається найкращим для даного завдання рекомендації)\n",
        "rmse_values = [rmse_svd, rmse_svdpp, rmse_nmf, rmse_knnbasic, rmse_knnwithzscore]\n",
        "algs = ['SVD', 'SVDpp', 'NMF', 'KNNBasic', 'KNNWithZScore']\n",
        "\n",
        "best_alg_index = rmse_values.index(min(rmse_values))\n",
        "best_alg = algs[best_alg_index]\n",
        "best_rmse = rmse_values[best_alg_index]\n",
        "\n",
        "# Зробіть візуалізацію\n",
        "plt.figure(figsize=(8, 6))\n",
        "plt.yticks(np.arange(0, 1.05, 0.05))\n",
        "plt.grid()\n",
        "plt.bar(algs, rmse_values, color=['tomato' if alg != best_alg else 'limegreen' for alg in algs])\n",
        "plt.title('RMSE рекомендаційних алгоритмів')\n",
        "plt.xlabel('Алгоритм')\n",
        "plt.ylabel('RMSE')\n",
        "plt.show()\n",
        "\n",
        "print(f\"Оптимальний алгоритм: {best_alg}\\nЙого значення RMSE: {best_rmse}\")"
      ],
      "metadata": {
        "colab": {
          "base_uri": "https://localhost:8080/",
          "height": 600
        },
        "id": "4dZb3Uq3WYcb",
        "outputId": "f0448544-656b-436d-9a2a-500fcecde416"
      },
      "execution_count": 43,
      "outputs": [
        {
          "output_type": "display_data",
          "data": {
            "text/plain": [
              "<Figure size 800x600 with 1 Axes>"
            ],
            "image/png": "[encoded data removed]"
          },
          "metadata": {}
        },
        {
          "output_type": "stream",
          "name": "stdout",
          "text": [
            "Оптимальний алгоритм: SVDpp\n",
            "Його значення RMSE: 0.9184887391672485\n"
          ]
        }
      ]
    },
    {
      "cell_type": "markdown",
      "source": [
        "# Висновок:\n",
        "\n",
        "У цій роботі ми розробили рекомендаційну систему з використанням бібліотеки Surprise на основі датасету \"movielens-100k\". Ми провели крос-валідацію для кількох різних алгоритмів, а саме SVD, SVD++, NMF, KNNBasic, та KNNWithZScore, з метою вибору найкращого алгоритму для нашої рекомендаційної системи.\n",
        "\n",
        "Після аналізу результатів крос-валідації ми визначили, що оптимальним алгоритмом для даного завдання є SVDpp, який показав найменше значення середньоквадратичної помилки (RMSE) серед усіх розглянутих алгоритмів. Це свідчить про те, що цей алгоритм надає найкращі рекомендації для користувачів нашої системи на основі доступних даних.\n",
        "\n",
        "Отже, в результаті виконаної роботи ми успішно розробили та оптимізували рекомендаційну систему, яка здатна надавати користувачам більш точні та персоналізовані рекомендації на основі їхніх попередніх взаємодій з контентом. Це може бути важливим інструментом для підвищення задоволення користувачів та збільшення участі в системі."
      ],
      "metadata": {
        "id": "VBO_e2SakqSh"
      }
    }
  ]
}