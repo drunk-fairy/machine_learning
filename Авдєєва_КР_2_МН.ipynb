{
  "nbformat": 4,
  "nbformat_minor": 0,
  "metadata": {
    "colab": {
      "provenance": []
    },
    "kernelspec": {
      "name": "python3",
      "display_name": "Python 3"
    },
    "language_info": {
      "name": "python"
    }
  },
  "cells": [
    {
      "cell_type": "markdown",
      "source": [
        "## ПІДСУМКОВА КОНТРОЛЬНА РОБОТА\n",
        "## МАШИННЕ НАВЧАННЯ\n",
        "## Авдєєва Серафима ФІТ 4-4\n",
        "## Завдання 2\n",
        "Розробити за допомогою бібліотеки\n",
        "surprise рекомендаційну систему.\n",
        "Використати датасет movielens 100k"
      ],
      "metadata": {
        "id": "dfN0KCs2OPeJ"
      }
    },
    {
      "cell_type": "code",
      "execution_count": 1,
      "metadata": {
        "colab": {
          "base_uri": "https://localhost:8080/"
        },
        "id": "WGQhd6GWN1n8",
        "outputId": "1bb29bc0-664a-4605-a64f-7ba59963cb06"
      },
      "outputs": [
        {
          "output_type": "stream",
          "name": "stdout",
          "text": [
            "Collecting scikit-surprise\n",
            "  Downloading scikit-surprise-1.1.3.tar.gz (771 kB)\n",
            "\u001b[2K     \u001b[90m━━━━━━━━━━━━━━━━━━━━━━━━━━━━━━━━━━━━━━━━\u001b[0m \u001b[32m772.0/772.0 kB\u001b[0m \u001b[31m9.9 MB/s\u001b[0m eta \u001b[36m0:00:00\u001b[0m\n",
            "\u001b[?25h  Preparing metadata (setup.py) ... \u001b[?25l\u001b[?25hdone\n",
            "Requirement already satisfied: joblib>=1.0.0 in /usr/local/lib/python3.10/dist-packages (from scikit-surprise) (1.3.2)\n",
            "Requirement already satisfied: numpy>=1.17.3 in /usr/local/lib/python3.10/dist-packages (from scikit-surprise) (1.23.5)\n",
            "Requirement already satisfied: scipy>=1.3.2 in /usr/local/lib/python3.10/dist-packages (from scikit-surprise) (1.11.3)\n",
            "Building wheels for collected packages: scikit-surprise\n",
            "  Building wheel for scikit-surprise (setup.py) ... \u001b[?25l\u001b[?25hdone\n",
            "  Created wheel for scikit-surprise: filename=scikit_surprise-1.1.3-cp310-cp310-linux_x86_64.whl size=3163485 sha256=c06421700101d77e571fa00373083e1cce0b3926c0da7322cebaf981452d8bf6\n",
            "  Stored in directory: /root/.cache/pip/wheels/a5/ca/a8/4e28def53797fdc4363ca4af740db15a9c2f1595ebc51fb445\n",
            "Successfully built scikit-surprise\n",
            "Installing collected packages: scikit-surprise\n",
            "Successfully installed scikit-surprise-1.1.3\n"
          ]
        }
      ],
      "source": [
        "!pip install scikit-surprise"
      ]
    },
    {
      "cell_type": "code",
      "source": [
        "from surprise import Dataset\n",
        "from surprise import SVD, SVDpp\n",
        "from surprise.model_selection import cross_validate\n",
        "import matplotlib.pyplot as plt\n",
        "import pandas as pd\n",
        "import numpy as np"
      ],
      "metadata": {
        "id": "hZAAETvkO8f1"
      },
      "execution_count": 2,
      "outputs": []
    },
    {
      "cell_type": "code",
      "source": [
        "# Використати датасет   movielens-100k\n",
        "data = Dataset.load_builtin(name='ml-100k')"
      ],
      "metadata": {
        "colab": {
          "base_uri": "https://localhost:8080/"
        },
        "id": "OIZPUECTPCFq",
        "outputId": "f89cfc20-853e-43c4-b14f-49297e8f43f2"
      },
      "execution_count": 3,
      "outputs": [
        {
          "output_type": "stream",
          "name": "stdout",
          "text": [
            "Dataset ml-100k could not be found. Do you want to download it? [Y/n] Y\n",
            "Trying to download dataset from https://files.grouplens.org/datasets/movielens/ml-100k.zip...\n",
            "Done! Dataset ml-100k has been saved to /root/.surprise_data/ml-100k\n"
          ]
        }
      ]
    },
    {
      "cell_type": "code",
      "source": [
        "df = pd.DataFrame(data.raw_ratings, columns=['user', 'item', 'rating', 'timestamp'])\n",
        "print(df.head())"
      ],
      "metadata": {
        "colab": {
          "base_uri": "https://localhost:8080/"
        },
        "id": "PyyNVLNVPGqK",
        "outputId": "2aed25f8-1cf1-4cf4-b933-e897d4cd535d"
      },
      "execution_count": 5,
      "outputs": [
        {
          "output_type": "stream",
          "name": "stdout",
          "text": [
            "  user item  rating  timestamp\n",
            "0  196  242     3.0  881250949\n",
            "1  186  302     3.0  891717742\n",
            "2   22  377     1.0  878887116\n",
            "3  244   51     2.0  880606923\n",
            "4  166  346     1.0  886397596\n"
          ]
        }
      ]
    },
    {
      "cell_type": "code",
      "source": [
        "#Використайте алгоритми SVD, SVDpp\n",
        "svd_alg = SVD()\n",
        "svdpp_alg = SVDpp()"
      ],
      "metadata": {
        "id": "a2OH9ZppPKrh"
      },
      "execution_count": 6,
      "outputs": []
    },
    {
      "cell_type": "code",
      "source": [
        "# Найкращі параметри для алгоритмів підберіть за допомогою крос-валідації.\n",
        "cv_svd = cross_validate(svd_alg, data, measures=['RMSE'], cv=5, verbose=True)\n",
        "cv_svdpp = cross_validate(svdpp_alg , data, measures=['RMSE'], cv=5, verbose=True)"
      ],
      "metadata": {
        "colab": {
          "base_uri": "https://localhost:8080/"
        },
        "id": "-uZv5nCLPVI3",
        "outputId": "3fc82acb-e3bd-4471-b3fe-3826c358e4c0"
      },
      "execution_count": 7,
      "outputs": [
        {
          "output_type": "stream",
          "name": "stdout",
          "text": [
            "Evaluating RMSE of algorithm SVD on 5 split(s).\n",
            "\n",
            "                  Fold 1  Fold 2  Fold 3  Fold 4  Fold 5  Mean    Std     \n",
            "RMSE (testset)    0.9304  0.9295  0.9438  0.9384  0.9436  0.9372  0.0062  \n",
            "Fit time          1.92    1.49    1.48    1.45    1.46    1.56    0.18    \n",
            "Test time         0.14    0.22    0.21    0.22    0.14    0.19    0.04    \n",
            "Evaluating RMSE of algorithm SVDpp on 5 split(s).\n",
            "\n",
            "                  Fold 1  Fold 2  Fold 3  Fold 4  Fold 5  Mean    Std     \n",
            "RMSE (testset)    0.9165  0.9124  0.9178  0.9240  0.9253  0.9192  0.0048  \n",
            "Fit time          27.27   26.98   27.82   27.18   27.21   27.29   0.28    \n",
            "Test time         5.68    4.64    4.21    4.87    5.17    4.91    0.49    \n"
          ]
        }
      ]
    },
    {
      "cell_type": "code",
      "source": [
        "# Обчисліть середнє значення середньоквадратичної помилки RMSE\n",
        "# для кожного алгоритму на основі результатів крос-валідації.\n",
        "rmse_svd = cv_svd['test_rmse'].mean()\n",
        "rmse_svdpp = cv_svdpp['test_rmse'].mean()"
      ],
      "metadata": {
        "id": "tBEqfvXyQJap"
      },
      "execution_count": 8,
      "outputs": []
    },
    {
      "cell_type": "code",
      "source": [
        "print(f\"SVD: {rmse_svd}\")\n",
        "print(f\"SVDpp: {rmse_svdpp}\")"
      ],
      "metadata": {
        "colab": {
          "base_uri": "https://localhost:8080/"
        },
        "id": "NOR6pApuRLKw",
        "outputId": "0c5cc636-c42c-4901-a151-479e9293ffd3"
      },
      "execution_count": 9,
      "outputs": [
        {
          "output_type": "stream",
          "name": "stdout",
          "text": [
            "SVD: 0.9371538729509215\n",
            "SVDpp: 0.9192103318657974\n"
          ]
        }
      ]
    },
    {
      "cell_type": "code",
      "source": [
        "# Виберіть оптимальний алгоритм\n",
        "# (Зазвичай, алгоритм з найменшим значенням RMSE\n",
        "# вважається найкращим для даного завдання рекомендації)\n",
        "rmse_values = [rmse_svd, rmse_svdpp]\n",
        "algs = ['SVD', 'SVDpp']\n",
        "\n",
        "best_alg_index = rmse_values.index(min(rmse_values))\n",
        "best_alg = algs[best_alg_index]\n",
        "best_rmse = rmse_values[best_alg_index]\n",
        "\n",
        "# Зробіть візуалізацію\n",
        "plt.figure(figsize=(6, 6))\n",
        "plt.yticks(np.arange(0, 1.05, 0.05))\n",
        "plt.grid()\n",
        "plt.bar(algs, rmse_values, color=['tomato' if alg != best_alg else 'limegreen' for alg in algs])\n",
        "plt.title('RMSE рекомендаційних алгоритмів')\n",
        "plt.xlabel('Алгоритм')\n",
        "plt.ylabel('RMSE')\n",
        "plt.show()\n",
        "\n",
        "print(f\"Оптимальний алгоритм: {best_alg}\\nЙого значення RMSE: {best_rmse}\")"
      ],
      "metadata": {
        "colab": {
          "base_uri": "https://localhost:8080/",
          "height": 600
        },
        "id": "uh4yrR0bROL1",
        "outputId": "ce715045-5528-4131-e471-66dc8324b9d2"
      },
      "execution_count": 11,
      "outputs": [
        {
          "output_type": "display_data",
          "data": {
            "text/plain": [
              "<Figure size 600x600 with 1 Axes>"
            ],
            "image/png": "[encoded data removed]"
          },
          "metadata": {}
        },
        {
          "output_type": "stream",
          "name": "stdout",
          "text": [
            "Оптимальний алгоритм: SVDpp\n",
            "Його значення RMSE: 0.9192103318657974\n"
          ]
        }
      ]
    },
    {
      "cell_type": "markdown",
      "source": [
        "# Висновок:\n",
        "\n",
        "У цьому завданні ми розробили рекомендаційну систему з використанням бібліотеки Surprise на основі датасету \"movielens-100k\". Ми провели крос-валідацію для кількох алгоритмів, а саме SVD та SVD++, з метою вибору найкращого алгоритму для нашої рекомендаційної системи.\n",
        "\n",
        "Після аналізу результатів крос-валідації ми визначили, що оптимальним алгоритмом для даного завдання є SVDpp, який показав найменше значення середньоквадратичної помилки (RMSE) серед усіх розглянутих алгоритмів. Це свідчить про те, що цей алгоритм надає найкращі рекомендації для користувачів нашої системи на основі доступних даних.\n",
        "\n",
        "Отже, в результаті виконаної роботи ми успішно розробили та оптимізували рекомендаційну систему, яка здатна надавати користувачам більш точні та персоналізовані рекомендації на основі їхніх попередніх взаємодій з контентом. Це може бути важливим інструментом для підвищення задоволення користувачів та збільшення участі в системі."
      ],
      "metadata": {
        "id": "nB_cLPcMRr5Y"
      }
    }
  ]
}